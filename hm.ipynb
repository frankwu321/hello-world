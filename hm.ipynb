{
  "nbformat": 4,
  "nbformat_minor": 0,
  "metadata": {
    "anaconda-cloud": {},
    "celltoolbar": "Slideshow",
    "colab": {
      "name": "hm2.ipynb",
      "version": "0.3.2",
      "provenance": [],
      "include_colab_link": true
    },
    "kernelspec": {
      "display_name": "Python 3",
      "language": "python",
      "name": "python3"
    },
    "language_info": {
      "codemirror_mode": {
        "name": "ipython",
        "version": 3
      },
      "file_extension": ".py",
      "mimetype": "text/x-python",
      "name": "python",
      "nbconvert_exporter": "python",
      "pygments_lexer": "ipython3",
      "version": "3.6.9"
    }
  },
  "cells": [
    {
      "cell_type": "markdown",
      "metadata": {
        "id": "view-in-github",
        "colab_type": "text"
      },
      "source": [
        "<a href=\"https://colab.research.google.com/github/frankwu321/hello-world/blob/master/hm.ipynb\" target=\"_parent\"><img src=\"https://colab.research.google.com/assets/colab-badge.svg\" alt=\"Open In Colab\"/></a>"
      ]
    },
    {
      "cell_type": "markdown",
      "metadata": {
        "colab_type": "text",
        "id": "sAf3Gsm5velW"
      },
      "source": [
        "## Introduction to Python Exercises\n",
        "\n",
        "![](https://github.com/rpi-techfundamentals/hm-01-starter/blob/master/notsaved.png?raw=1)\n",
        "\n",
        "**WARNING!!!  If you see this icon on the top of your COLAB sesssion, your work is not saved automatically.**\n",
        "\n",
        "**Save your working file in Google drive so that all changes will be saved as you work. MAKE SURE that your final version is saved to GitHub.** \n",
        "\n",
        "Before you turn this in, make sure everything runs as expected. First, restart the kernel (in the menu, select Kernel → Restart) and then run all cells (in the menubar, select Cell → Run All).  You can speak with others regarding the assignment but all work must be your own. \n",
        "\n",
        "\n",
        "### This is a 30 point assignment.\n",
        "\n",
        "**You may find it useful to go through the notebooks from the course materials when doing these exercises.**\n",
        "\n",
        "**If you attempt to fake passing the tests you will receive a 0 on the assignment and it will be considered an ethical violation.**"
      ]
    },
    {
      "cell_type": "code",
      "metadata": {
        "colab_type": "code",
        "id": "ziN7lGGlvela",
        "colab": {
          "base_uri": "https://localhost:8080/",
          "height": 1000
        },
        "outputId": "013fd6af-184c-4c81-e633-b6841dfb6d12"
      },
      "source": [
        "files = \"https://github.com/rpi-techfundamentals/hm-02-starter/raw/master/files.zip\"\n",
        "!pip install git+https://github.com/data-8/Gofer-Grader && wget $files && unzip -o files.zip"
      ],
      "execution_count": 5,
      "outputs": [
        {
          "output_type": "stream",
          "text": [
            "Collecting git+https://github.com/data-8/Gofer-Grader\n",
            "  Cloning https://github.com/data-8/Gofer-Grader to /tmp/pip-req-build-5ega53mn\n",
            "  Running command git clone -q https://github.com/data-8/Gofer-Grader /tmp/pip-req-build-5ega53mn\n",
            "Requirement already satisfied: jinja2 in /usr/local/lib/python3.6/dist-packages (from gofer-grader==1.0.9) (2.10.1)\n",
            "Requirement already satisfied: pygments in /usr/local/lib/python3.6/dist-packages (from gofer-grader==1.0.9) (2.1.3)\n",
            "Requirement already satisfied: tornado in /usr/local/lib/python3.6/dist-packages (from gofer-grader==1.0.9) (4.5.3)\n",
            "Requirement already satisfied: MarkupSafe>=0.23 in /usr/local/lib/python3.6/dist-packages (from jinja2->gofer-grader==1.0.9) (1.1.1)\n",
            "Building wheels for collected packages: gofer-grader\n",
            "  Building wheel for gofer-grader (setup.py) ... \u001b[?25l\u001b[?25hdone\n",
            "  Created wheel for gofer-grader: filename=gofer_grader-1.0.9-cp36-none-any.whl size=10115 sha256=2417d71dad25e256930f6f110dc6574b3424d2a523802e8a35b7deb725532a7f\n",
            "  Stored in directory: /tmp/pip-ephem-wheel-cache-5iw9agk1/wheels/9e/62/24/8563ae039051d6ba979557d1766bfebbda5dd08f8572e3e35d\n",
            "Successfully built gofer-grader\n",
            "Installing collected packages: gofer-grader\n",
            "Successfully installed gofer-grader-1.0.9\n",
            "--2019-09-08 02:16:15--  https://github.com/rpi-techfundamentals/hm-02-starter/raw/master/files.zip\n",
            "Resolving github.com (github.com)... 140.82.114.4\n",
            "Connecting to github.com (github.com)|140.82.114.4|:443... connected.\n",
            "HTTP request sent, awaiting response... 302 Found\n",
            "Location: https://raw.githubusercontent.com/rpi-techfundamentals/hm-02-starter/master/files.zip [following]\n",
            "--2019-09-08 02:16:15--  https://raw.githubusercontent.com/rpi-techfundamentals/hm-02-starter/master/files.zip\n",
            "Resolving raw.githubusercontent.com (raw.githubusercontent.com)... 151.101.0.133, 151.101.64.133, 151.101.128.133, ...\n",
            "Connecting to raw.githubusercontent.com (raw.githubusercontent.com)|151.101.0.133|:443... connected.\n",
            "HTTP request sent, awaiting response... 200 OK\n",
            "Length: 10753 (11K) [application/zip]\n",
            "Saving to: ‘files.zip’\n",
            "\n",
            "files.zip           100%[===================>]  10.50K  --.-KB/s    in 0s      \n",
            "\n",
            "2019-09-08 02:16:16 (152 MB/s) - ‘files.zip’ saved [10753/10753]\n",
            "\n",
            "Archive:  files.zip\n",
            "   creating: tests/\n",
            "  inflating: tests/q25.py            \n",
            "  inflating: tests/q11.py            \n",
            "  inflating: tests/q15.py            \n",
            "  inflating: tests/q21.py            \n",
            " extracting: tests/__init__.py       \n",
            "  inflating: tests/q14.py            \n",
            "  inflating: tests/q20.py            \n",
            "  inflating: tests/q24.py            \n",
            "  inflating: tests/q10.py            \n",
            "  inflating: tests/qname.py          \n",
            "  inflating: tests/q07.py            \n",
            "  inflating: tests/q17.py            \n",
            "  inflating: tests/q23.py            \n",
            "  inflating: tests/q03.py            \n",
            "  inflating: tests/q27.py            \n",
            "  inflating: tests/q13.py            \n",
            "  inflating: tests/q02.py            \n",
            "  inflating: tests/q26.py            \n",
            "   creating: __MACOSX/\n",
            "   creating: __MACOSX/tests/\n",
            "  inflating: __MACOSX/tests/._q26.py  \n",
            "  inflating: tests/q12.py            \n",
            "  inflating: tests/q06.py            \n",
            "  inflating: tests/q16.py            \n",
            "  inflating: tests/q22.py            \n",
            "   creating: tests/.ipynb_checkpoints/\n",
            "  inflating: tests/q09.py            \n",
            "  inflating: tests/q19.py            \n",
            "  inflating: tests/q08.py            \n",
            "  inflating: tests/q18.py            \n",
            "  inflating: hm02.ok                 \n",
            "  inflating: iris.csv                \n",
            "  inflating: __MACOSX/._iris.csv     \n"
          ],
          "name": "stdout"
        }
      ]
    },
    {
      "cell_type": "code",
      "metadata": {
        "colab_type": "code",
        "id": "AdVbmM-tveli",
        "colab": {}
      },
      "source": [
        "#This loads the grading software.  If you later get a \"failed to import OK.py\" you need to rerun.\n",
        "from client.api.notebook import Notebook\n",
        "ok = Notebook('hm02.ok')\n",
        "_ = ok.auth(inline=True)"
      ],
      "execution_count": 0,
      "outputs": []
    },
    {
      "cell_type": "markdown",
      "metadata": {
        "colab_type": "text",
        "id": "3mHHPuQOvemq"
      },
      "source": [
        "## Exercise-Packages\n",
        "\n",
        "This creates an Numpy array. Numpy is a common package that we will use to work with arrays. You can read more about Numpy [here](http://www.numpy.org/). \n",
        "\n",
        "```\n",
        "a = np.array([2,3,4])\n",
        "print(a)\n",
        "```\n",
        "\n",
        "To get this to work, you will have to make sure that the numpy(np) package is installed. \n",
        "\n",
        "(1) Verify that Numpy is installed. How did you know?  \n",
        "Describe how you would you install it if it wasn't installed?\n"
      ]
    },
    {
      "cell_type": "code",
      "metadata": {
        "colab_type": "code",
        "id": "9SRVAJkUvemt",
        "colab": {}
      },
      "source": [
        "man1=\"\"\"\n",
        "to verify Numpy is installed, I will use 'import numpy as np'. If installed, it will not report an error in the console.\n",
        "I will use '!pip install numpy' in the colab\n",
        "\"\"\""
      ],
      "execution_count": 0,
      "outputs": []
    },
    {
      "cell_type": "markdown",
      "metadata": {
        "colab_type": "text",
        "id": "zeDVp2Sivemw"
      },
      "source": [
        "(2) Fix the cell below so that `a` is a `numpy` array."
      ]
    },
    {
      "cell_type": "code",
      "metadata": {
        "colab_type": "code",
        "id": "Sei-Ye83vemx",
        "colab": {
          "base_uri": "https://localhost:8080/",
          "height": 51
        },
        "outputId": "81397279-9e3c-4f18-aa6d-827335a74c91"
      },
      "source": [
        "#Fix this code of q2. \n",
        "!pip install numpy\n",
        "import numpy as np\n",
        "a = np.array([5,6,7,8])\n",
        "print(a, type(a))\n"
      ],
      "execution_count": 57,
      "outputs": [
        {
          "output_type": "stream",
          "text": [
            "Requirement already satisfied: numpy in /usr/local/lib/python3.6/dist-packages (1.16.5)\n",
            "[5 6 7 8] <class 'numpy.ndarray'>\n"
          ],
          "name": "stdout"
        }
      ]
    },
    {
      "cell_type": "code",
      "metadata": {
        "colab_type": "code",
        "id": "U8SBYHzCvenG",
        "colab": {
          "base_uri": "https://localhost:8080/",
          "height": 46
        },
        "outputId": "eb01e33e-6a2c-49b9-d1e8-c497694380fe"
      },
      "source": [
        "_ = ok.grade('q02')"
      ],
      "execution_count": 58,
      "outputs": [
        {
          "output_type": "display_data",
          "data": {
            "text/html": [
              "\n",
              "    \n",
              "    \n",
              "        <p>All tests passed!</p>\n",
              "    \n",
              "    "
            ],
            "text/plain": [
              "<gofer.ok.OKTestsResult at 0x7fbc7cd1fc50>"
            ]
          },
          "metadata": {
            "tags": []
          }
        }
      ]
    },
    {
      "cell_type": "markdown",
      "metadata": {
        "colab_type": "text",
        "id": "JPQJGf-4venI"
      },
      "source": [
        "(3) Create a numpy array `b` with the values `12, 13, 14, 15`.\n",
        "\n"
      ]
    },
    {
      "cell_type": "code",
      "metadata": {
        "colab_type": "code",
        "id": "ZCnMrkR7venI",
        "colab": {}
      },
      "source": [
        "#<insert q3 code here>\n",
        "\n",
        "b = np.array([12,13,14,15])"
      ],
      "execution_count": 0,
      "outputs": []
    },
    {
      "cell_type": "code",
      "metadata": {
        "colab_type": "code",
        "id": "zR8TxGqIvenQ",
        "colab": {
          "base_uri": "https://localhost:8080/",
          "height": 46
        },
        "outputId": "7753e079-6c79-4811-f8ca-dcb06f80def4"
      },
      "source": [
        "_ = ok.grade('q03')"
      ],
      "execution_count": 60,
      "outputs": [
        {
          "output_type": "display_data",
          "data": {
            "text/html": [
              "\n",
              "    \n",
              "    \n",
              "        <p>All tests passed!</p>\n",
              "    \n",
              "    "
            ],
            "text/plain": [
              "<gofer.ok.OKTestsResult at 0x7fbc7ce97b00>"
            ]
          },
          "metadata": {
            "tags": []
          }
        }
      ]
    },
    {
      "cell_type": "markdown",
      "metadata": {
        "colab_type": "text",
        "id": "mw3XWpwLvend"
      },
      "source": [
        "## Exercise - Operations on Variables\n",
        "\n",
        "(4) Describe what happens when you multiply an integer times a boolean? \n",
        "What is the resulting type? Provide examples.\n"
      ]
    },
    {
      "cell_type": "code",
      "metadata": {
        "colab_type": "code",
        "id": "tE8mUzMDvend",
        "colab": {}
      },
      "source": [
        "#You must assign your answer to q4_answer. \n",
        "man4=\"\"\"\n",
        "when an integer times a boolean, it comes out as an integer.\n",
        "example: \n",
        "  print(type(2*True))\n",
        "  <class 'int'>\n",
        "\"\"\""
      ],
      "execution_count": 0,
      "outputs": []
    },
    {
      "cell_type": "markdown",
      "metadata": {
        "colab_type": "text",
        "id": "GYgxT58dvenf"
      },
      "source": [
        "(5) Describe happens when you try to multiply an integer value times a null?"
      ]
    },
    {
      "cell_type": "code",
      "metadata": {
        "colab_type": "code",
        "id": "q3-_3HZbveng",
        "colab": {}
      },
      "source": [
        "man5=\"\"\"\n",
        "it will report an error, because an integer type cannot time a None type in python.\n",
        "\"\"\"\n"
      ],
      "execution_count": 0,
      "outputs": []
    },
    {
      "cell_type": "markdown",
      "metadata": {
        "colab_type": "text",
        "id": "mmJfgNELvenh"
      },
      "source": [
        "(6) Take 5 to the power of 4 and assign it to a variable `c`. Then transform the variable `c` to a type `float`. "
      ]
    },
    {
      "cell_type": "code",
      "metadata": {
        "colab_type": "code",
        "id": "rCKk0Jleveni",
        "colab": {}
      },
      "source": [
        "#<insert q6 code here>\n",
        "c = float(pow(5,4))\n"
      ],
      "execution_count": 0,
      "outputs": []
    },
    {
      "cell_type": "code",
      "metadata": {
        "colab_type": "code",
        "id": "KF0GNcPCvenk",
        "colab": {
          "base_uri": "https://localhost:8080/",
          "height": 46
        },
        "outputId": "56c105fa-3fa0-4e97-95d5-fe5f9945d2f9"
      },
      "source": [
        "_ = ok.grade('q06')"
      ],
      "execution_count": 64,
      "outputs": [
        {
          "output_type": "display_data",
          "data": {
            "text/html": [
              "\n",
              "    \n",
              "    \n",
              "        <p>All tests passed!</p>\n",
              "    \n",
              "    "
            ],
            "text/plain": [
              "<gofer.ok.OKTestsResult at 0x7fbc7ce97470>"
            ]
          },
          "metadata": {
            "tags": []
          }
        }
      ]
    },
    {
      "cell_type": "markdown",
      "metadata": {
        "colab_type": "text",
        "id": "BUuwcdISvenl"
      },
      "source": [
        "## Exercise-Lists\n",
        "Hint: [This link is useful.](https://docs.python.org/3/tutorial/datastructures.html#more-on-lists) as is the process of tab completion (using tab to find available methods of an object).\n",
        "\n",
        "(7) Create a list `elist1` with the following values `1,2,3,4,5`.<br>\n"
      ]
    },
    {
      "cell_type": "code",
      "metadata": {
        "colab_type": "code",
        "id": "Ez-K3n65venl",
        "colab": {}
      },
      "source": [
        "#<insert q7 code here>\n",
        "elist1 = [1,2,3,4,5]"
      ],
      "execution_count": 0,
      "outputs": []
    },
    {
      "cell_type": "code",
      "metadata": {
        "colab_type": "code",
        "id": "IC0OKhjFvenn",
        "colab": {
          "base_uri": "https://localhost:8080/",
          "height": 46
        },
        "outputId": "21fc4ea1-5e7a-41a1-f1b3-f39392e9312f"
      },
      "source": [
        "_ = ok.grade('q07')"
      ],
      "execution_count": 66,
      "outputs": [
        {
          "output_type": "display_data",
          "data": {
            "text/html": [
              "\n",
              "    \n",
              "    \n",
              "        <p>All tests passed!</p>\n",
              "    \n",
              "    "
            ],
            "text/plain": [
              "<gofer.ok.OKTestsResult at 0x7fbc7ce97710>"
            ]
          },
          "metadata": {
            "tags": []
          }
        }
      ]
    },
    {
      "cell_type": "markdown",
      "metadata": {
        "colab_type": "text",
        "id": "RlyO4sm0venp"
      },
      "source": [
        "(8) Create a new list `elist2` by first creating a copy of `elist1` and then reversing the order.\n",
        "\n",
        "*HINT, remember there is a specific function to copy a list.* \n"
      ]
    },
    {
      "cell_type": "code",
      "metadata": {
        "colab_type": "code",
        "id": "NH7kHN_xvenq",
        "colab": {}
      },
      "source": [
        "#<insert q8 code here>\n",
        "elist2 = list.copy(elist1)\n",
        "list.reverse(elist2)"
      ],
      "execution_count": 0,
      "outputs": []
    },
    {
      "cell_type": "code",
      "metadata": {
        "colab_type": "code",
        "id": "U_AjuZaSvenr",
        "colab": {
          "base_uri": "https://localhost:8080/",
          "height": 46
        },
        "outputId": "8439820e-c742-47fa-d158-f26f833d3fde"
      },
      "source": [
        "_ = ok.grade('q08')"
      ],
      "execution_count": 68,
      "outputs": [
        {
          "output_type": "display_data",
          "data": {
            "text/html": [
              "\n",
              "    \n",
              "    \n",
              "        <p>All tests passed!</p>\n",
              "    \n",
              "    "
            ],
            "text/plain": [
              "<gofer.ok.OKTestsResult at 0x7fbc7cd1ff98>"
            ]
          },
          "metadata": {
            "tags": []
          }
        }
      ]
    },
    {
      "cell_type": "markdown",
      "metadata": {
        "colab_type": "text",
        "id": "mZS4sc4Zvenu"
      },
      "source": [
        "(9) Create a new list `elist3` by first creating a copy of `elist1` and then adding `7, 8, 9` to the end. (Hint: Search for a different function if appending doesn't work.) "
      ]
    },
    {
      "cell_type": "code",
      "metadata": {
        "colab_type": "code",
        "id": "qOM-WIoEvenu",
        "colab": {}
      },
      "source": [
        "#<insert q9 code here>\n",
        "elist3 = list.copy(elist1)\n",
        "elist3.extend([7,8,9])"
      ],
      "execution_count": 0,
      "outputs": []
    },
    {
      "cell_type": "code",
      "metadata": {
        "colab_type": "code",
        "id": "3oHqLKmsvenw",
        "colab": {
          "base_uri": "https://localhost:8080/",
          "height": 46
        },
        "outputId": "113c73c0-352f-4e4e-a786-9fd79f3c42b0"
      },
      "source": [
        "_ = ok.grade('q09')"
      ],
      "execution_count": 70,
      "outputs": [
        {
          "output_type": "display_data",
          "data": {
            "text/html": [
              "\n",
              "    \n",
              "    \n",
              "        <p>All tests passed!</p>\n",
              "    \n",
              "    "
            ],
            "text/plain": [
              "<gofer.ok.OKTestsResult at 0x7fbc7cd2b940>"
            ]
          },
          "metadata": {
            "tags": []
          }
        }
      ]
    },
    {
      "cell_type": "markdown",
      "metadata": {
        "colab_type": "text",
        "id": "IyrzEdqTven2"
      },
      "source": [
        "(10) Create a new list `elist4` by first creating a copy of `elist3` and then insert `6` between `5` and `7`."
      ]
    },
    {
      "cell_type": "code",
      "metadata": {
        "colab_type": "code",
        "id": "gFgUlCpeven3",
        "colab": {}
      },
      "source": [
        "#<insert q10 code here>\n",
        "elist4 = list.copy(elist3)\n",
        "elist4.insert(5,6)"
      ],
      "execution_count": 0,
      "outputs": []
    },
    {
      "cell_type": "code",
      "metadata": {
        "colab_type": "code",
        "id": "8WLUG12Iven5",
        "colab": {
          "base_uri": "https://localhost:8080/",
          "height": 46
        },
        "outputId": "8c7fea05-ecc7-4176-d8e3-90a909b35b05"
      },
      "source": [
        "_ = ok.grade('q10')"
      ],
      "execution_count": 72,
      "outputs": [
        {
          "output_type": "display_data",
          "data": {
            "text/html": [
              "\n",
              "    \n",
              "    \n",
              "        <p>All tests passed!</p>\n",
              "    \n",
              "    "
            ],
            "text/plain": [
              "<gofer.ok.OKTestsResult at 0x7fbc7cd2b908>"
            ]
          },
          "metadata": {
            "tags": []
          }
        }
      ]
    },
    {
      "cell_type": "markdown",
      "metadata": {
        "colab_type": "text",
        "id": "rw6Sh0gWven7"
      },
      "source": [
        "## Exercise-Sets/Dictionary\n",
        "\n",
        "This [link to documentation on sets](https://docs.python.org/3/tutorial/datastructures.html#sets) may be useful.\n",
        "\n",
        "(11) Create a set `eset1` with the following values (1,2,3,4,5).\n"
      ]
    },
    {
      "cell_type": "code",
      "metadata": {
        "colab_type": "code",
        "id": "mte4CjMRven7",
        "colab": {}
      },
      "source": [
        "#<insert q11 code here>\n",
        "eset1 = {1,2,3,4,5}"
      ],
      "execution_count": 0,
      "outputs": []
    },
    {
      "cell_type": "code",
      "metadata": {
        "colab_type": "code",
        "id": "ATousioRven-",
        "colab": {
          "base_uri": "https://localhost:8080/",
          "height": 46
        },
        "outputId": "8780a40b-eb0a-4632-f038-3bdb45b1812f"
      },
      "source": [
        "_ = ok.grade('q11')"
      ],
      "execution_count": 74,
      "outputs": [
        {
          "output_type": "display_data",
          "data": {
            "text/html": [
              "\n",
              "    \n",
              "    \n",
              "        <p>All tests passed!</p>\n",
              "    \n",
              "    "
            ],
            "text/plain": [
              "<gofer.ok.OKTestsResult at 0x7fbc7cd2be10>"
            ]
          },
          "metadata": {
            "tags": []
          }
        }
      ]
    },
    {
      "cell_type": "markdown",
      "metadata": {
        "colab_type": "text",
        "id": "jRJFjKF8veoB"
      },
      "source": [
        "\n",
        "(12) Create a new set `eset2` the following values (1,3,6).\n",
        "\n"
      ]
    },
    {
      "cell_type": "code",
      "metadata": {
        "colab_type": "code",
        "id": "gBMvn0lBveoC",
        "colab": {}
      },
      "source": [
        "#<insert q12 code here>\n",
        "eset2 = {1,3,6}"
      ],
      "execution_count": 0,
      "outputs": []
    },
    {
      "cell_type": "code",
      "metadata": {
        "colab_type": "code",
        "id": "gxis27MfveoI",
        "colab": {
          "base_uri": "https://localhost:8080/",
          "height": 46
        },
        "outputId": "a136eb34-1b34-42cb-98be-99a5b027f81e"
      },
      "source": [
        "_ = ok.grade('q12')"
      ],
      "execution_count": 76,
      "outputs": [
        {
          "output_type": "display_data",
          "data": {
            "text/html": [
              "\n",
              "    \n",
              "    \n",
              "        <p>All tests passed!</p>\n",
              "    \n",
              "    "
            ],
            "text/plain": [
              "<gofer.ok.OKTestsResult at 0x7fbc7d0376a0>"
            ]
          },
          "metadata": {
            "tags": []
          }
        }
      ]
    },
    {
      "cell_type": "markdown",
      "metadata": {
        "colab_type": "text",
        "id": "PJo2iKx5veoP"
      },
      "source": [
        "(13) Create a new set `eset3` that is `eset1-eset2`.\n",
        "\n"
      ]
    },
    {
      "cell_type": "code",
      "metadata": {
        "colab_type": "code",
        "id": "-MWFYYgzveoQ",
        "colab": {}
      },
      "source": [
        "#<insert q13 code here>\n",
        "eset3 = eset1 - eset2"
      ],
      "execution_count": 0,
      "outputs": []
    },
    {
      "cell_type": "code",
      "metadata": {
        "colab_type": "code",
        "id": "NFEbonxWveoS",
        "colab": {
          "base_uri": "https://localhost:8080/",
          "height": 46
        },
        "outputId": "c83c01b4-211a-4229-8b4a-56ab1ef9fc9d"
      },
      "source": [
        "_ = ok.grade('q13')"
      ],
      "execution_count": 78,
      "outputs": [
        {
          "output_type": "display_data",
          "data": {
            "text/html": [
              "\n",
              "    \n",
              "    \n",
              "        <p>All tests passed!</p>\n",
              "    \n",
              "    "
            ],
            "text/plain": [
              "<gofer.ok.OKTestsResult at 0x7fbc7ce975c0>"
            ]
          },
          "metadata": {
            "tags": []
          }
        }
      ]
    },
    {
      "cell_type": "markdown",
      "metadata": {
        "colab_type": "text",
        "id": "WvXjhLl6veoW"
      },
      "source": [
        "(14) Create a new set `eset4` that is the union of `eset1+eset2`.\n"
      ]
    },
    {
      "cell_type": "code",
      "metadata": {
        "colab_type": "code",
        "id": "R3OgsaWmveoX",
        "colab": {}
      },
      "source": [
        "#<insert q14 code here>\n",
        "eset4 = eset1 | eset2"
      ],
      "execution_count": 0,
      "outputs": []
    },
    {
      "cell_type": "code",
      "metadata": {
        "colab_type": "code",
        "id": "Pu77neIrveoZ",
        "colab": {
          "base_uri": "https://localhost:8080/",
          "height": 46
        },
        "outputId": "aff7be53-73a7-4208-f45b-141525e97571"
      },
      "source": [
        "_ = ok.grade('q14')"
      ],
      "execution_count": 80,
      "outputs": [
        {
          "output_type": "display_data",
          "data": {
            "text/html": [
              "\n",
              "    \n",
              "    \n",
              "        <p>All tests passed!</p>\n",
              "    \n",
              "    "
            ],
            "text/plain": [
              "<gofer.ok.OKTestsResult at 0x7fbc7cd2b128>"
            ]
          },
          "metadata": {
            "tags": []
          }
        }
      ]
    },
    {
      "cell_type": "markdown",
      "metadata": {
        "colab_type": "text",
        "id": "_gKiO2weveob"
      },
      "source": [
        "\n",
        "(15) Create a new set `eset5` that includes values that are in both `eset1` and `eset2` (intersection).\n",
        "\n"
      ]
    },
    {
      "cell_type": "code",
      "metadata": {
        "colab_type": "code",
        "id": "-vehzEgxveoc",
        "colab": {}
      },
      "source": [
        "#<insert q15 code here>\n",
        "eset5 = eset1 & eset2"
      ],
      "execution_count": 0,
      "outputs": []
    },
    {
      "cell_type": "code",
      "metadata": {
        "colab_type": "code",
        "id": "-oR1AM5Sveoe",
        "colab": {
          "base_uri": "https://localhost:8080/",
          "height": 46
        },
        "outputId": "0c336fc2-7df6-4709-e797-c6fd6f467b35"
      },
      "source": [
        "_ = ok.grade('q15')"
      ],
      "execution_count": 82,
      "outputs": [
        {
          "output_type": "display_data",
          "data": {
            "text/html": [
              "\n",
              "    \n",
              "    \n",
              "        <p>All tests passed!</p>\n",
              "    \n",
              "    "
            ],
            "text/plain": [
              "<gofer.ok.OKTestsResult at 0x7fbc7d0376a0>"
            ]
          },
          "metadata": {
            "tags": []
          }
        }
      ]
    },
    {
      "cell_type": "markdown",
      "metadata": {
        "colab_type": "text",
        "id": "O77S6aEvveof"
      },
      "source": [
        "(16) Create a new dict `edict1` with the following keys and associated values: st1=45; st2=32; st3=40; st4=31.\n",
        "\n",
        "*Hint: There is a good section on dictionaries [here](https://docs.python.org/3/tutorial/datastructures.html#dictionaries).\n"
      ]
    },
    {
      "cell_type": "code",
      "metadata": {
        "colab_type": "code",
        "id": "dALoqnlmveog",
        "colab": {}
      },
      "source": [
        "#<insert q16 code here>\n",
        "edict1 = {'st1':45, 'st2':32, 'st3':40, 'st4':31}\n"
      ],
      "execution_count": 0,
      "outputs": []
    },
    {
      "cell_type": "code",
      "metadata": {
        "colab_type": "code",
        "id": "iTa-j24Cveok",
        "colab": {
          "base_uri": "https://localhost:8080/",
          "height": 46
        },
        "outputId": "26722a6d-7955-4312-9c1f-99f641efb2fe"
      },
      "source": [
        "_ = ok.grade('q16')"
      ],
      "execution_count": 84,
      "outputs": [
        {
          "output_type": "display_data",
          "data": {
            "text/html": [
              "\n",
              "    \n",
              "    \n",
              "        <p>All tests passed!</p>\n",
              "    \n",
              "    "
            ],
            "text/plain": [
              "<gofer.ok.OKTestsResult at 0x7fbc7cd2b710>"
            ]
          },
          "metadata": {
            "tags": []
          }
        }
      ]
    },
    {
      "cell_type": "markdown",
      "metadata": {
        "colab_type": "text",
        "id": "DPUG_c91veol"
      },
      "source": [
        "\n",
        "(17) Create a new variable `key1` where the value is equal to the value of dictionary edict1 with key `st3`."
      ]
    },
    {
      "cell_type": "code",
      "metadata": {
        "colab_type": "code",
        "id": "57DB91zWveom",
        "colab": {}
      },
      "source": [
        "#<insert q17 code here>\n",
        "key1 = edict1['st3']"
      ],
      "execution_count": 0,
      "outputs": []
    },
    {
      "cell_type": "code",
      "metadata": {
        "colab_type": "code",
        "id": "SI0poMQbveoo",
        "colab": {
          "base_uri": "https://localhost:8080/",
          "height": 46
        },
        "outputId": "6c3ba79c-27e5-4fce-9e33-9c782411ba48"
      },
      "source": [
        "_ = ok.grade('q17')"
      ],
      "execution_count": 86,
      "outputs": [
        {
          "output_type": "display_data",
          "data": {
            "text/html": [
              "\n",
              "    \n",
              "    \n",
              "        <p>All tests passed!</p>\n",
              "    \n",
              "    "
            ],
            "text/plain": [
              "<gofer.ok.OKTestsResult at 0x7fbc7cd2b860>"
            ]
          },
          "metadata": {
            "tags": []
          }
        }
      ]
    },
    {
      "cell_type": "markdown",
      "metadata": {
        "colab_type": "text",
        "id": "WCTH_R82veou"
      },
      "source": [
        "# Exercise-Numpy Array\n",
        "\n",
        "(18) Create a new numpy array `nparray1` that is 3x3 and all the number 3 (should be integer type).\n",
        "\n"
      ]
    },
    {
      "cell_type": "code",
      "metadata": {
        "colab_type": "code",
        "id": "qP9SkH5Dveou",
        "colab": {
          "base_uri": "https://localhost:8080/",
          "height": 34
        },
        "outputId": "35bbf69a-10e1-4b2d-d1e9-d85cd50b26ec"
      },
      "source": [
        "#<insert q18 code here>\n",
        "!pip install numpy\n",
        "import numpy as np\n",
        "x1 = np.array((3, 3, 3))\n",
        "nparray1 = np.array((x1,x1,x1))"
      ],
      "execution_count": 3,
      "outputs": [
        {
          "output_type": "stream",
          "text": [
            "Requirement already satisfied: numpy in /usr/local/lib/python3.6/dist-packages (1.16.5)\n"
          ],
          "name": "stdout"
        }
      ]
    },
    {
      "cell_type": "code",
      "metadata": {
        "colab_type": "code",
        "id": "e5KhrEPPveoy",
        "colab": {
          "base_uri": "https://localhost:8080/",
          "height": 46
        },
        "outputId": "c89512bc-6c63-4aed-e335-1557e1d6eb2f"
      },
      "source": [
        "_ = ok.grade('q18')"
      ],
      "execution_count": 8,
      "outputs": [
        {
          "output_type": "display_data",
          "data": {
            "text/html": [
              "\n",
              "    \n",
              "    \n",
              "        <p>All tests passed!</p>\n",
              "    \n",
              "    "
            ],
            "text/plain": [
              "<gofer.ok.OKTestsResult at 0x7fbc7e8a9320>"
            ]
          },
          "metadata": {
            "tags": []
          }
        }
      ]
    },
    {
      "cell_type": "markdown",
      "metadata": {
        "colab_type": "text",
        "id": "WIGePWRzveo0"
      },
      "source": [
        "\n",
        "(19) Create a new variable `nparray1sum` that sums all of column 0.\n"
      ]
    },
    {
      "cell_type": "code",
      "metadata": {
        "id": "WouApQEfp19E",
        "colab_type": "code",
        "colab": {}
      },
      "source": [
        "#<insert q19 code here>\n",
        "nparray1sum = nparray1[::,0:1:].sum()"
      ],
      "execution_count": 0,
      "outputs": []
    },
    {
      "cell_type": "code",
      "metadata": {
        "colab_type": "code",
        "id": "PStOnlUqveo3",
        "colab": {
          "base_uri": "https://localhost:8080/",
          "height": 46
        },
        "outputId": "9346ce94-40d4-41cf-b6ac-da2b500483a7"
      },
      "source": [
        "_ = ok.grade('q19')"
      ],
      "execution_count": 10,
      "outputs": [
        {
          "output_type": "display_data",
          "data": {
            "text/html": [
              "\n",
              "    \n",
              "    \n",
              "        <p>All tests passed!</p>\n",
              "    \n",
              "    "
            ],
            "text/plain": [
              "<gofer.ok.OKTestsResult at 0x7fbc9448c7b8>"
            ]
          },
          "metadata": {
            "tags": []
          }
        }
      ]
    },
    {
      "cell_type": "markdown",
      "metadata": {
        "colab_type": "text",
        "id": "ewCdbT57veo6"
      },
      "source": [
        "(20) Create a new variable `nparray1mean` that takes the average of column 0.\n"
      ]
    },
    {
      "cell_type": "code",
      "metadata": {
        "colab_type": "code",
        "id": "kWYaDvQcveo7",
        "colab": {}
      },
      "source": [
        "#<insert q20 code here>\n",
        "nparray1mean = nparray1[::,0:1:].mean()"
      ],
      "execution_count": 0,
      "outputs": []
    },
    {
      "cell_type": "code",
      "metadata": {
        "colab_type": "code",
        "id": "oglCgM9Sveo8",
        "colab": {
          "base_uri": "https://localhost:8080/",
          "height": 46
        },
        "outputId": "d669d895-67d6-4ea9-d394-a62b29d5f581"
      },
      "source": [
        "_ = ok.grade('q20')"
      ],
      "execution_count": 12,
      "outputs": [
        {
          "output_type": "display_data",
          "data": {
            "text/html": [
              "\n",
              "    \n",
              "    \n",
              "        <p>All tests passed!</p>\n",
              "    \n",
              "    "
            ],
            "text/plain": [
              "<gofer.ok.OKTestsResult at 0x7fbc7df7b7b8>"
            ]
          },
          "metadata": {
            "tags": []
          }
        }
      ]
    },
    {
      "cell_type": "markdown",
      "metadata": {
        "colab_type": "text",
        "id": "hPwkZIFjvepK"
      },
      "source": [
        "(21) Create a new numpy array `nparray2` that selects only column 1 of `nparray1` (all rows).\n"
      ]
    },
    {
      "cell_type": "code",
      "metadata": {
        "colab_type": "code",
        "id": "_u87TQAWvepM",
        "colab": {}
      },
      "source": [
        "#<insert q21 code here>\n",
        "nparray2 = nparray1[::,0:1:]"
      ],
      "execution_count": 0,
      "outputs": []
    },
    {
      "cell_type": "code",
      "metadata": {
        "colab_type": "code",
        "id": "AaITgUOdvepP",
        "colab": {
          "base_uri": "https://localhost:8080/",
          "height": 46
        },
        "outputId": "b725b9ff-1c2b-440b-b6e2-b14cb3c75748"
      },
      "source": [
        "_ = ok.grade('q21')"
      ],
      "execution_count": 14,
      "outputs": [
        {
          "output_type": "display_data",
          "data": {
            "text/html": [
              "\n",
              "    \n",
              "    \n",
              "        <p>All tests passed!</p>\n",
              "    \n",
              "    "
            ],
            "text/plain": [
              "<gofer.ok.OKTestsResult at 0x7fbc7e8a9390>"
            ]
          },
          "metadata": {
            "tags": []
          }
        }
      ]
    },
    {
      "cell_type": "markdown",
      "metadata": {
        "colab_type": "text",
        "id": "DB3DOnfJvepR"
      },
      "source": [
        "(22) Create a new numpy array `nparray3` that is equal to `nparray1` times `2` (you should not alter `nparray1`).\n"
      ]
    },
    {
      "cell_type": "code",
      "metadata": {
        "colab_type": "code",
        "id": "nh46rOKIvepR",
        "colab": {}
      },
      "source": [
        "#<insert q22 code here>\n",
        "nparray3 = 2 * nparray1"
      ],
      "execution_count": 0,
      "outputs": []
    },
    {
      "cell_type": "code",
      "metadata": {
        "colab_type": "code",
        "id": "QqoCpcgGvepT",
        "colab": {
          "base_uri": "https://localhost:8080/",
          "height": 46
        },
        "outputId": "728724c8-229e-40b2-aeb1-4430f14655c8"
      },
      "source": [
        "_ = ok.grade('q22')"
      ],
      "execution_count": 16,
      "outputs": [
        {
          "output_type": "display_data",
          "data": {
            "text/html": [
              "\n",
              "    \n",
              "    \n",
              "        <p>All tests passed!</p>\n",
              "    \n",
              "    "
            ],
            "text/plain": [
              "<gofer.ok.OKTestsResult at 0x7fbc7df09fd0>"
            ]
          },
          "metadata": {
            "tags": []
          }
        }
      ]
    },
    {
      "cell_type": "markdown",
      "metadata": {
        "colab_type": "text",
        "id": "AcHYqDoJvepW"
      },
      "source": [
        "(23) Create a new numpy array nparray4 that is a verticle stack of `nparray1` and `nparray3`."
      ]
    },
    {
      "cell_type": "code",
      "metadata": {
        "colab_type": "code",
        "id": "UIdFzHX2vepW",
        "colab": {}
      },
      "source": [
        "#<insert q23 code here>\n",
        "nparray4 = np.row_stack((nparray1,nparray3))\n"
      ],
      "execution_count": 0,
      "outputs": []
    },
    {
      "cell_type": "code",
      "metadata": {
        "colab_type": "code",
        "id": "fRdhG2Qlvepg",
        "colab": {
          "base_uri": "https://localhost:8080/",
          "height": 46
        },
        "outputId": "f8777c1b-fddb-4dd1-d790-31ec060af47d"
      },
      "source": [
        "_ = ok.grade('q23')"
      ],
      "execution_count": 24,
      "outputs": [
        {
          "output_type": "display_data",
          "data": {
            "text/html": [
              "\n",
              "    \n",
              "    \n",
              "        <p>All tests passed!</p>\n",
              "    \n",
              "    "
            ],
            "text/plain": [
              "<gofer.ok.OKTestsResult at 0x7fbc7d52e5c0>"
            ]
          },
          "metadata": {
            "tags": []
          }
        }
      ]
    },
    {
      "cell_type": "markdown",
      "metadata": {
        "colab_type": "text",
        "id": "ezfqNhP7vepj"
      },
      "source": [
        "## Exercise-Pandas\n",
        "\n",
        "For these you will need to import the iris dataset. You should find the file `iris.csv` in the main directory.  \n",
        "\n",
        "While we showed 2 ways of importing a csv, you should use the `read_csv` method of Pandas to load the csv into a dataframe called `df`. \n"
      ]
    },
    {
      "cell_type": "code",
      "metadata": {
        "colab_type": "code",
        "id": "vV8phxSrvepm",
        "colab": {
          "base_uri": "https://localhost:8080/",
          "height": 142
        },
        "outputId": "26ea92fc-a629-435c-f708-e815206c729c"
      },
      "source": [
        "#Load iris.csv into a Pandas dataframe df here.\n",
        "#Check out the first few rows with the head command. \n",
        "import pandas as pd\n",
        "df = pd.read_csv('iris.csv')\n",
        "df.head(3)"
      ],
      "execution_count": 38,
      "outputs": [
        {
          "output_type": "execute_result",
          "data": {
            "text/html": [
              "<div>\n",
              "<style scoped>\n",
              "    .dataframe tbody tr th:only-of-type {\n",
              "        vertical-align: middle;\n",
              "    }\n",
              "\n",
              "    .dataframe tbody tr th {\n",
              "        vertical-align: top;\n",
              "    }\n",
              "\n",
              "    .dataframe thead th {\n",
              "        text-align: right;\n",
              "    }\n",
              "</style>\n",
              "<table border=\"1\" class=\"dataframe\">\n",
              "  <thead>\n",
              "    <tr style=\"text-align: right;\">\n",
              "      <th></th>\n",
              "      <th>sepal_length</th>\n",
              "      <th>sepal_width</th>\n",
              "      <th>petal_length</th>\n",
              "      <th>petal_width</th>\n",
              "      <th>species</th>\n",
              "    </tr>\n",
              "  </thead>\n",
              "  <tbody>\n",
              "    <tr>\n",
              "      <th>0</th>\n",
              "      <td>5.1</td>\n",
              "      <td>3.5</td>\n",
              "      <td>1.4</td>\n",
              "      <td>0.2</td>\n",
              "      <td>setosa</td>\n",
              "    </tr>\n",
              "    <tr>\n",
              "      <th>1</th>\n",
              "      <td>4.9</td>\n",
              "      <td>3.0</td>\n",
              "      <td>1.4</td>\n",
              "      <td>0.2</td>\n",
              "      <td>setosa</td>\n",
              "    </tr>\n",
              "    <tr>\n",
              "      <th>2</th>\n",
              "      <td>4.7</td>\n",
              "      <td>3.2</td>\n",
              "      <td>1.3</td>\n",
              "      <td>0.2</td>\n",
              "      <td>setosa</td>\n",
              "    </tr>\n",
              "  </tbody>\n",
              "</table>\n",
              "</div>"
            ],
            "text/plain": [
              "   sepal_length  sepal_width  petal_length  petal_width species\n",
              "0           5.1          3.5           1.4          0.2  setosa\n",
              "1           4.9          3.0           1.4          0.2  setosa\n",
              "2           4.7          3.2           1.3          0.2  setosa"
            ]
          },
          "metadata": {
            "tags": []
          },
          "execution_count": 38
        }
      ]
    },
    {
      "cell_type": "markdown",
      "metadata": {
        "colab_type": "text",
        "id": "9a38atU5vepo"
      },
      "source": [
        "(24) Create a variable `df_rows` that includes the number of rows in the `df` dataframe."
      ]
    },
    {
      "cell_type": "code",
      "metadata": {
        "colab_type": "code",
        "id": "aHJFJBLwvepo",
        "colab": {
          "base_uri": "https://localhost:8080/",
          "height": 34
        },
        "outputId": "95c86bc3-8a0c-4cb6-d569-a6820b67e1d3"
      },
      "source": [
        "#<insert q24 code here>\n",
        "df_rows = len(df)\n",
        "df_rows"
      ],
      "execution_count": 41,
      "outputs": [
        {
          "output_type": "execute_result",
          "data": {
            "text/plain": [
              "150"
            ]
          },
          "metadata": {
            "tags": []
          },
          "execution_count": 41
        }
      ]
    },
    {
      "cell_type": "code",
      "metadata": {
        "colab_type": "code",
        "id": "ocyOMCMcvepr",
        "colab": {
          "base_uri": "https://localhost:8080/",
          "height": 46
        },
        "outputId": "99d4fcaa-38bd-4263-a2a8-646829af3f58"
      },
      "source": [
        "_ = ok.grade('q24')"
      ],
      "execution_count": 40,
      "outputs": [
        {
          "output_type": "display_data",
          "data": {
            "text/html": [
              "\n",
              "    \n",
              "    \n",
              "        <p>All tests passed!</p>\n",
              "    \n",
              "    "
            ],
            "text/plain": [
              "<gofer.ok.OKTestsResult at 0x7fbc7ce44390>"
            ]
          },
          "metadata": {
            "tags": []
          }
        }
      ]
    },
    {
      "cell_type": "markdown",
      "metadata": {
        "colab_type": "text",
        "id": "5HIEmJJ7vept"
      },
      "source": [
        "(25) Create a new dataframe `df_train` that includes the first half of the `df` dataframe. Create a new dataframe `df_test` that includes the second half. "
      ]
    },
    {
      "cell_type": "code",
      "metadata": {
        "colab_type": "code",
        "id": "m94FHotyvepu",
        "colab": {}
      },
      "source": [
        "#<insert q25 code here>\n",
        "df_train = df[0:75]\n",
        "df_test = df[75:]"
      ],
      "execution_count": 0,
      "outputs": []
    },
    {
      "cell_type": "code",
      "metadata": {
        "colab_type": "code",
        "id": "hxI3G7FZvepv",
        "colab": {
          "base_uri": "https://localhost:8080/",
          "height": 46
        },
        "outputId": "081484a6-8744-4bef-f145-ab6e18066e57"
      },
      "source": [
        "_ = ok.grade('q25')"
      ],
      "execution_count": 45,
      "outputs": [
        {
          "output_type": "display_data",
          "data": {
            "text/html": [
              "\n",
              "    \n",
              "    \n",
              "        <p>All tests passed!</p>\n",
              "    \n",
              "    "
            ],
            "text/plain": [
              "<gofer.ok.OKTestsResult at 0x7fbc7ce44eb8>"
            ]
          },
          "metadata": {
            "tags": []
          }
        }
      ]
    },
    {
      "cell_type": "markdown",
      "metadata": {
        "colab_type": "text",
        "id": "zEAb8ANfvepw"
      },
      "source": [
        "(26) Create a new Pandas Series `sepal_length` from the `sepal_length` column of the df dataframe."
      ]
    },
    {
      "cell_type": "code",
      "metadata": {
        "colab_type": "code",
        "id": "esdxPPVRvepw",
        "colab": {}
      },
      "source": [
        "#<insert q26 code here>\n",
        "sepal_length = df['sepal_length']\n"
      ],
      "execution_count": 0,
      "outputs": []
    },
    {
      "cell_type": "code",
      "metadata": {
        "colab_type": "code",
        "id": "QDepO9byvepx",
        "colab": {
          "base_uri": "https://localhost:8080/",
          "height": 46
        },
        "outputId": "b1675b21-029a-4d71-998c-1bfda7903c4c"
      },
      "source": [
        "_ = ok.grade('q26')"
      ],
      "execution_count": 47,
      "outputs": [
        {
          "output_type": "display_data",
          "data": {
            "text/html": [
              "\n",
              "    \n",
              "    \n",
              "        <p>All tests passed!</p>\n",
              "    \n",
              "    "
            ],
            "text/plain": [
              "<gofer.ok.OKTestsResult at 0x7fbc7ce44e48>"
            ]
          },
          "metadata": {
            "tags": []
          }
        }
      ]
    },
    {
      "cell_type": "markdown",
      "metadata": {
        "colab_type": "text",
        "id": "o_werxT-veqZ"
      },
      "source": [
        "\n",
        "(27) Using, the Iris dataset, find the mean of the `sepal_length` series in our sample and assign it to the `sepal_length_mean` variable. You should round the result to 3 digits after the decimal. \n",
        "\n",
        "```\n",
        "#Round example\n",
        "a=99.9999999999999\n",
        "#For example, the following will round a to 2 digits.\n",
        "b = round(a,2)   \n",
        "\n",
        "```"
      ]
    },
    {
      "cell_type": "code",
      "metadata": {
        "colab_type": "code",
        "id": "saURdNtTveqZ",
        "colab": {}
      },
      "source": [
        "#<insert q27 code here>\n",
        "sepal_length_mean = round(sepal_length.mean(),3)"
      ],
      "execution_count": 0,
      "outputs": []
    },
    {
      "cell_type": "code",
      "metadata": {
        "colab_type": "code",
        "id": "Iof0VHXhveqa",
        "colab": {
          "base_uri": "https://localhost:8080/",
          "height": 46
        },
        "outputId": "5283e427-0b50-4e18-cc9e-dcdc6072d621"
      },
      "source": [
        "_ = ok.grade('q27')"
      ],
      "execution_count": 52,
      "outputs": [
        {
          "output_type": "display_data",
          "data": {
            "text/html": [
              "\n",
              "    \n",
              "    \n",
              "        <p>All tests passed!</p>\n",
              "    \n",
              "    "
            ],
            "text/plain": [
              "<gofer.ok.OKTestsResult at 0x7fbc7ce44208>"
            ]
          },
          "metadata": {
            "tags": []
          }
        }
      ]
    },
    {
      "cell_type": "markdown",
      "metadata": {
        "colab_type": "text",
        "id": "olb4NJhXveqg"
      },
      "source": [
        "## Enter your Information\n",
        "Enter your information.  This will run all tests to make sure that the assignment is complete. "
      ]
    },
    {
      "cell_type": "code",
      "metadata": {
        "colab_type": "code",
        "id": "qEOFiseYveqh",
        "colab": {}
      },
      "source": [
        "course=\"mgmt6560\"   #course number\n",
        "section=\"1\"          #section \n",
        "first_name=\"Kelun\"   #For example, \"jason\"\n",
        "last_name=\"Wu\"    #For example, \"kuruzovich\"\n",
        "student_id=\"661978377\"       #for example \"kuruzj\"\n",
        "student_email=\"wuk7@rpi.edu\"    #for example \"kuruzj@rpi.edu\"\n",
        "collaborators = \"sky\"  #You can speak with others regarding the assignment, but all typed work must be your own."
      ],
      "execution_count": 0,
      "outputs": []
    },
    {
      "cell_type": "code",
      "metadata": {
        "colab_type": "code",
        "id": "XAFY3Ibsveqi",
        "colab": {
          "base_uri": "https://localhost:8080/",
          "height": 598
        },
        "outputId": "612f7351-8549-481f-fb04-2612839a7f19"
      },
      "source": [
        "#This runs all tests. \n",
        "import os\n",
        "_ = [ok.grade(q[:-3]) for q in os.listdir(\"tests\") if q.startswith('q')]"
      ],
      "execution_count": 87,
      "outputs": [
        {
          "output_type": "display_data",
          "data": {
            "text/html": [
              "\n",
              "    \n",
              "    \n",
              "        <p>All tests passed!</p>\n",
              "    \n",
              "    "
            ],
            "text/plain": [
              "<gofer.ok.OKTestsResult at 0x7fbc7cd323c8>"
            ]
          },
          "metadata": {
            "tags": []
          }
        },
        {
          "output_type": "display_data",
          "data": {
            "text/html": [
              "\n",
              "    \n",
              "    \n",
              "        <p>All tests passed!</p>\n",
              "    \n",
              "    "
            ],
            "text/plain": [
              "<gofer.ok.OKTestsResult at 0x7fbc7cd32550>"
            ]
          },
          "metadata": {
            "tags": []
          }
        },
        {
          "output_type": "display_data",
          "data": {
            "text/html": [
              "\n",
              "    \n",
              "    \n",
              "        <p>All tests passed!</p>\n",
              "    \n",
              "    "
            ],
            "text/plain": [
              "<gofer.ok.OKTestsResult at 0x7fbc7cd32630>"
            ]
          },
          "metadata": {
            "tags": []
          }
        },
        {
          "output_type": "display_data",
          "data": {
            "text/html": [
              "\n",
              "    \n",
              "    \n",
              "        <p>All tests passed!</p>\n",
              "    \n",
              "    "
            ],
            "text/plain": [
              "<gofer.ok.OKTestsResult at 0x7fbc7cd324a8>"
            ]
          },
          "metadata": {
            "tags": []
          }
        },
        {
          "output_type": "display_data",
          "data": {
            "text/html": [
              "\n",
              "    \n",
              "    \n",
              "        <p>All tests passed!</p>\n",
              "    \n",
              "    "
            ],
            "text/plain": [
              "<gofer.ok.OKTestsResult at 0x7fbc7cd325c0>"
            ]
          },
          "metadata": {
            "tags": []
          }
        },
        {
          "output_type": "display_data",
          "data": {
            "text/html": [
              "\n",
              "    \n",
              "    \n",
              "        <p>All tests passed!</p>\n",
              "    \n",
              "    "
            ],
            "text/plain": [
              "<gofer.ok.OKTestsResult at 0x7fbc7cd32748>"
            ]
          },
          "metadata": {
            "tags": []
          }
        },
        {
          "output_type": "display_data",
          "data": {
            "text/html": [
              "\n",
              "    \n",
              "    \n",
              "        <p>All tests passed!</p>\n",
              "    \n",
              "    "
            ],
            "text/plain": [
              "<gofer.ok.OKTestsResult at 0x7fbc7cd32710>"
            ]
          },
          "metadata": {
            "tags": []
          }
        },
        {
          "output_type": "display_data",
          "data": {
            "text/html": [
              "\n",
              "    \n",
              "    \n",
              "        <p>All tests passed!</p>\n",
              "    \n",
              "    "
            ],
            "text/plain": [
              "<gofer.ok.OKTestsResult at 0x7fbc7cd326a0>"
            ]
          },
          "metadata": {
            "tags": []
          }
        },
        {
          "output_type": "display_data",
          "data": {
            "text/html": [
              "\n",
              "    \n",
              "    \n",
              "        <p>All tests passed!</p>\n",
              "    \n",
              "    "
            ],
            "text/plain": [
              "<gofer.ok.OKTestsResult at 0x7fbc7cd32438>"
            ]
          },
          "metadata": {
            "tags": []
          }
        },
        {
          "output_type": "display_data",
          "data": {
            "text/html": [
              "\n",
              "    \n",
              "    \n",
              "        <p>All tests passed!</p>\n",
              "    \n",
              "    "
            ],
            "text/plain": [
              "<gofer.ok.OKTestsResult at 0x7fbc7cd32978>"
            ]
          },
          "metadata": {
            "tags": []
          }
        },
        {
          "output_type": "display_data",
          "data": {
            "text/html": [
              "\n",
              "    \n",
              "    \n",
              "        <p>All tests passed!</p>\n",
              "    \n",
              "    "
            ],
            "text/plain": [
              "<gofer.ok.OKTestsResult at 0x7fbc7cd32b00>"
            ]
          },
          "metadata": {
            "tags": []
          }
        },
        {
          "output_type": "display_data",
          "data": {
            "text/html": [
              "\n",
              "    \n",
              "    \n",
              "        <p>All tests passed!</p>\n",
              "    \n",
              "    "
            ],
            "text/plain": [
              "<gofer.ok.OKTestsResult at 0x7fbc7cd327f0>"
            ]
          },
          "metadata": {
            "tags": []
          }
        },
        {
          "output_type": "display_data",
          "data": {
            "text/html": [
              "\n",
              "    \n",
              "    \n",
              "        <p>All tests passed!</p>\n",
              "    \n",
              "    "
            ],
            "text/plain": [
              "<gofer.ok.OKTestsResult at 0x7fbc7cd32ba8>"
            ]
          },
          "metadata": {
            "tags": []
          }
        },
        {
          "output_type": "display_data",
          "data": {
            "text/html": [
              "\n",
              "    \n",
              "    \n",
              "        <p>All tests passed!</p>\n",
              "    \n",
              "    "
            ],
            "text/plain": [
              "<gofer.ok.OKTestsResult at 0x7fbc7cd32b70>"
            ]
          },
          "metadata": {
            "tags": []
          }
        },
        {
          "output_type": "display_data",
          "data": {
            "text/html": [
              "\n",
              "    \n",
              "    \n",
              "        <p>All tests passed!</p>\n",
              "    \n",
              "    "
            ],
            "text/plain": [
              "<gofer.ok.OKTestsResult at 0x7fbc7cd32a90>"
            ]
          },
          "metadata": {
            "tags": []
          }
        },
        {
          "output_type": "display_data",
          "data": {
            "text/html": [
              "\n",
              "    \n",
              "    \n",
              "        <p>All tests passed!</p>\n",
              "    \n",
              "    "
            ],
            "text/plain": [
              "<gofer.ok.OKTestsResult at 0x7fbc7cd32d30>"
            ]
          },
          "metadata": {
            "tags": []
          }
        },
        {
          "output_type": "display_data",
          "data": {
            "text/html": [
              "\n",
              "    \n",
              "    \n",
              "        <p>All tests passed!</p>\n",
              "    \n",
              "    "
            ],
            "text/plain": [
              "<gofer.ok.OKTestsResult at 0x7fbc7cd32da0>"
            ]
          },
          "metadata": {
            "tags": []
          }
        },
        {
          "output_type": "display_data",
          "data": {
            "text/html": [
              "\n",
              "    \n",
              "    \n",
              "        <p>All tests passed!</p>\n",
              "    \n",
              "    "
            ],
            "text/plain": [
              "<gofer.ok.OKTestsResult at 0x7fbc7cd329b0>"
            ]
          },
          "metadata": {
            "tags": []
          }
        },
        {
          "output_type": "display_data",
          "data": {
            "text/html": [
              "\n",
              "    \n",
              "    \n",
              "        <p>All tests passed!</p>\n",
              "    \n",
              "    "
            ],
            "text/plain": [
              "<gofer.ok.OKTestsResult at 0x7fbc7cd32c88>"
            ]
          },
          "metadata": {
            "tags": []
          }
        },
        {
          "output_type": "display_data",
          "data": {
            "text/html": [
              "\n",
              "    \n",
              "    \n",
              "        <p>All tests passed!</p>\n",
              "    \n",
              "    "
            ],
            "text/plain": [
              "<gofer.ok.OKTestsResult at 0x7fbc7cd32c18>"
            ]
          },
          "metadata": {
            "tags": []
          }
        },
        {
          "output_type": "display_data",
          "data": {
            "text/html": [
              "\n",
              "    \n",
              "    \n",
              "        <p>All tests passed!</p>\n",
              "    \n",
              "    "
            ],
            "text/plain": [
              "<gofer.ok.OKTestsResult at 0x7fbc7cd32b38>"
            ]
          },
          "metadata": {
            "tags": []
          }
        },
        {
          "output_type": "display_data",
          "data": {
            "text/html": [
              "\n",
              "    \n",
              "    \n",
              "        <p>All tests passed!</p>\n",
              "    \n",
              "    "
            ],
            "text/plain": [
              "<gofer.ok.OKTestsResult at 0x7fbc7cd32908>"
            ]
          },
          "metadata": {
            "tags": []
          }
        },
        {
          "output_type": "display_data",
          "data": {
            "text/html": [
              "\n",
              "    \n",
              "    \n",
              "        <p>All tests passed!</p>\n",
              "    \n",
              "    "
            ],
            "text/plain": [
              "<gofer.ok.OKTestsResult at 0x7fbc7cd32be0>"
            ]
          },
          "metadata": {
            "tags": []
          }
        },
        {
          "output_type": "display_data",
          "data": {
            "text/html": [
              "\n",
              "    \n",
              "    \n",
              "        <p>All tests passed!</p>\n",
              "    \n",
              "    "
            ],
            "text/plain": [
              "<gofer.ok.OKTestsResult at 0x7fbc7cd32d68>"
            ]
          },
          "metadata": {
            "tags": []
          }
        },
        {
          "output_type": "display_data",
          "data": {
            "text/html": [
              "\n",
              "    \n",
              "    \n",
              "        <p>All tests passed!</p>\n",
              "    \n",
              "    "
            ],
            "text/plain": [
              "<gofer.ok.OKTestsResult at 0x7fbc7cd32fd0>"
            ]
          },
          "metadata": {
            "tags": []
          }
        }
      ]
    }
  ]
}